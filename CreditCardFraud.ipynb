{
 "cells": [
  {
   "cell_type": "code",
   "execution_count": 1,
   "metadata": {
    "id": "2ZvrZc37r6Am"
   },
   "outputs": [],
   "source": [
    "import tensorflow as tf\n",
    "from tensorflow import keras\n",
    "from tensorflow.keras import Sequential\n",
    "from tensorflow.keras.layers import Flatten, Dense, Dropout, BatchNormalization\n",
    "from tensorflow.keras.layers import Conv1D, MaxPool1D\n",
    "from tensorflow.keras.optimizers import Adam\n",
    "from tensorflow.keras import layers"
   ]
  },
  {
   "cell_type": "code",
   "execution_count": 2,
   "metadata": {
    "id": "fJaICCYNr6As"
   },
   "outputs": [],
   "source": [
    "import pandas as pd\n",
    "import numpy as np\n",
    "import seaborn as sns\n",
    "import matplotlib.pyplot as plt\n",
    "from sklearn.model_selection import train_test_split\n",
    "from sklearn.preprocessing import StandardScaler"
   ]
  },
  {
   "cell_type": "code",
   "execution_count": 3,
   "metadata": {
    "colab": {
     "base_uri": "https://localhost:8080/",
     "height": 387
    },
    "id": "4c8RaYgRr6At",
    "outputId": "aefc3ed0-00b0-4fac-bde0-4fec0cdbc62c"
   },
   "outputs": [
    {
     "data": {
      "text/html": [
       "<div>\n",
       "<style scoped>\n",
       "    .dataframe tbody tr th:only-of-type {\n",
       "        vertical-align: middle;\n",
       "    }\n",
       "\n",
       "    .dataframe tbody tr th {\n",
       "        vertical-align: top;\n",
       "    }\n",
       "\n",
       "    .dataframe thead th {\n",
       "        text-align: right;\n",
       "    }\n",
       "</style>\n",
       "<table border=\"1\" class=\"dataframe\">\n",
       "  <thead>\n",
       "    <tr style=\"text-align: right;\">\n",
       "      <th></th>\n",
       "      <th>Time</th>\n",
       "      <th>V1</th>\n",
       "      <th>V2</th>\n",
       "      <th>V3</th>\n",
       "      <th>V4</th>\n",
       "      <th>V5</th>\n",
       "      <th>V6</th>\n",
       "      <th>V7</th>\n",
       "      <th>V8</th>\n",
       "      <th>V9</th>\n",
       "      <th>...</th>\n",
       "      <th>V21</th>\n",
       "      <th>V22</th>\n",
       "      <th>V23</th>\n",
       "      <th>V24</th>\n",
       "      <th>V25</th>\n",
       "      <th>V26</th>\n",
       "      <th>V27</th>\n",
       "      <th>V28</th>\n",
       "      <th>Amount</th>\n",
       "      <th>Class</th>\n",
       "    </tr>\n",
       "  </thead>\n",
       "  <tbody>\n",
       "    <tr>\n",
       "      <th>0</th>\n",
       "      <td>0.0</td>\n",
       "      <td>-1.359807</td>\n",
       "      <td>-0.072781</td>\n",
       "      <td>2.536347</td>\n",
       "      <td>1.378155</td>\n",
       "      <td>-0.338321</td>\n",
       "      <td>0.462388</td>\n",
       "      <td>0.239599</td>\n",
       "      <td>0.098698</td>\n",
       "      <td>0.363787</td>\n",
       "      <td>...</td>\n",
       "      <td>-0.018307</td>\n",
       "      <td>0.277838</td>\n",
       "      <td>-0.110474</td>\n",
       "      <td>0.066928</td>\n",
       "      <td>0.128539</td>\n",
       "      <td>-0.189115</td>\n",
       "      <td>0.133558</td>\n",
       "      <td>-0.021053</td>\n",
       "      <td>149.62</td>\n",
       "      <td>0</td>\n",
       "    </tr>\n",
       "    <tr>\n",
       "      <th>1</th>\n",
       "      <td>0.0</td>\n",
       "      <td>1.191857</td>\n",
       "      <td>0.266151</td>\n",
       "      <td>0.166480</td>\n",
       "      <td>0.448154</td>\n",
       "      <td>0.060018</td>\n",
       "      <td>-0.082361</td>\n",
       "      <td>-0.078803</td>\n",
       "      <td>0.085102</td>\n",
       "      <td>-0.255425</td>\n",
       "      <td>...</td>\n",
       "      <td>-0.225775</td>\n",
       "      <td>-0.638672</td>\n",
       "      <td>0.101288</td>\n",
       "      <td>-0.339846</td>\n",
       "      <td>0.167170</td>\n",
       "      <td>0.125895</td>\n",
       "      <td>-0.008983</td>\n",
       "      <td>0.014724</td>\n",
       "      <td>2.69</td>\n",
       "      <td>0</td>\n",
       "    </tr>\n",
       "    <tr>\n",
       "      <th>2</th>\n",
       "      <td>1.0</td>\n",
       "      <td>-1.358354</td>\n",
       "      <td>-1.340163</td>\n",
       "      <td>1.773209</td>\n",
       "      <td>0.379780</td>\n",
       "      <td>-0.503198</td>\n",
       "      <td>1.800499</td>\n",
       "      <td>0.791461</td>\n",
       "      <td>0.247676</td>\n",
       "      <td>-1.514654</td>\n",
       "      <td>...</td>\n",
       "      <td>0.247998</td>\n",
       "      <td>0.771679</td>\n",
       "      <td>0.909412</td>\n",
       "      <td>-0.689281</td>\n",
       "      <td>-0.327642</td>\n",
       "      <td>-0.139097</td>\n",
       "      <td>-0.055353</td>\n",
       "      <td>-0.059752</td>\n",
       "      <td>378.66</td>\n",
       "      <td>0</td>\n",
       "    </tr>\n",
       "    <tr>\n",
       "      <th>3</th>\n",
       "      <td>1.0</td>\n",
       "      <td>-0.966272</td>\n",
       "      <td>-0.185226</td>\n",
       "      <td>1.792993</td>\n",
       "      <td>-0.863291</td>\n",
       "      <td>-0.010309</td>\n",
       "      <td>1.247203</td>\n",
       "      <td>0.237609</td>\n",
       "      <td>0.377436</td>\n",
       "      <td>-1.387024</td>\n",
       "      <td>...</td>\n",
       "      <td>-0.108300</td>\n",
       "      <td>0.005274</td>\n",
       "      <td>-0.190321</td>\n",
       "      <td>-1.175575</td>\n",
       "      <td>0.647376</td>\n",
       "      <td>-0.221929</td>\n",
       "      <td>0.062723</td>\n",
       "      <td>0.061458</td>\n",
       "      <td>123.50</td>\n",
       "      <td>0</td>\n",
       "    </tr>\n",
       "    <tr>\n",
       "      <th>4</th>\n",
       "      <td>2.0</td>\n",
       "      <td>-1.158233</td>\n",
       "      <td>0.877737</td>\n",
       "      <td>1.548718</td>\n",
       "      <td>0.403034</td>\n",
       "      <td>-0.407193</td>\n",
       "      <td>0.095921</td>\n",
       "      <td>0.592941</td>\n",
       "      <td>-0.270533</td>\n",
       "      <td>0.817739</td>\n",
       "      <td>...</td>\n",
       "      <td>-0.009431</td>\n",
       "      <td>0.798278</td>\n",
       "      <td>-0.137458</td>\n",
       "      <td>0.141267</td>\n",
       "      <td>-0.206010</td>\n",
       "      <td>0.502292</td>\n",
       "      <td>0.219422</td>\n",
       "      <td>0.215153</td>\n",
       "      <td>69.99</td>\n",
       "      <td>0</td>\n",
       "    </tr>\n",
       "  </tbody>\n",
       "</table>\n",
       "<p>5 rows × 31 columns</p>\n",
       "</div>"
      ],
      "text/plain": [
       "   Time        V1        V2        V3        V4        V5        V6        V7  \\\n",
       "0   0.0 -1.359807 -0.072781  2.536347  1.378155 -0.338321  0.462388  0.239599   \n",
       "1   0.0  1.191857  0.266151  0.166480  0.448154  0.060018 -0.082361 -0.078803   \n",
       "2   1.0 -1.358354 -1.340163  1.773209  0.379780 -0.503198  1.800499  0.791461   \n",
       "3   1.0 -0.966272 -0.185226  1.792993 -0.863291 -0.010309  1.247203  0.237609   \n",
       "4   2.0 -1.158233  0.877737  1.548718  0.403034 -0.407193  0.095921  0.592941   \n",
       "\n",
       "         V8        V9  ...       V21       V22       V23       V24       V25  \\\n",
       "0  0.098698  0.363787  ... -0.018307  0.277838 -0.110474  0.066928  0.128539   \n",
       "1  0.085102 -0.255425  ... -0.225775 -0.638672  0.101288 -0.339846  0.167170   \n",
       "2  0.247676 -1.514654  ...  0.247998  0.771679  0.909412 -0.689281 -0.327642   \n",
       "3  0.377436 -1.387024  ... -0.108300  0.005274 -0.190321 -1.175575  0.647376   \n",
       "4 -0.270533  0.817739  ... -0.009431  0.798278 -0.137458  0.141267 -0.206010   \n",
       "\n",
       "        V26       V27       V28  Amount  Class  \n",
       "0 -0.189115  0.133558 -0.021053  149.62      0  \n",
       "1  0.125895 -0.008983  0.014724    2.69      0  \n",
       "2 -0.139097 -0.055353 -0.059752  378.66      0  \n",
       "3 -0.221929  0.062723  0.061458  123.50      0  \n",
       "4  0.502292  0.219422  0.215153   69.99      0  \n",
       "\n",
       "[5 rows x 31 columns]"
      ]
     },
     "execution_count": 3,
     "metadata": {},
     "output_type": "execute_result"
    }
   ],
   "source": [
    "data = pd.read_csv(r'E:/CSC669/creditcard.csv')\n",
    "data.head()"
   ]
  },
  {
   "cell_type": "code",
   "execution_count": 4,
   "metadata": {
    "id": "bwB7W8bTr6Au",
    "outputId": "74a76c67-0d9e-4bdc-ce08-8f83160ce186"
   },
   "outputs": [
    {
     "data": {
      "text/plain": [
       "(284807, 31)"
      ]
     },
     "execution_count": 4,
     "metadata": {},
     "output_type": "execute_result"
    }
   ],
   "source": [
    "data.shape"
   ]
  },
  {
   "cell_type": "code",
   "execution_count": 5,
   "metadata": {
    "id": "jeCjhL3qr6Au",
    "outputId": "740fcee8-a752-4fdd-a379-b623b5a958b5"
   },
   "outputs": [
    {
     "data": {
      "text/plain": [
       "Time      0\n",
       "V1        0\n",
       "V2        0\n",
       "V3        0\n",
       "V4        0\n",
       "V5        0\n",
       "V6        0\n",
       "V7        0\n",
       "V8        0\n",
       "V9        0\n",
       "V10       0\n",
       "V11       0\n",
       "V12       0\n",
       "V13       0\n",
       "V14       0\n",
       "V15       0\n",
       "V16       0\n",
       "V17       0\n",
       "V18       0\n",
       "V19       0\n",
       "V20       0\n",
       "V21       0\n",
       "V22       0\n",
       "V23       0\n",
       "V24       0\n",
       "V25       0\n",
       "V26       0\n",
       "V27       0\n",
       "V28       0\n",
       "Amount    0\n",
       "Class     0\n",
       "dtype: int64"
      ]
     },
     "execution_count": 5,
     "metadata": {},
     "output_type": "execute_result"
    }
   ],
   "source": [
    "data.isnull().sum()"
   ]
  },
  {
   "cell_type": "code",
   "execution_count": 6,
   "metadata": {
    "id": "ZZJYXTKer6Av",
    "outputId": "c9568cef-de79-4e48-ad35-eea1c8d6d0cf"
   },
   "outputs": [
    {
     "data": {
      "text/plain": [
       "0    284315\n",
       "1       492\n",
       "Name: Class, dtype: int64"
      ]
     },
     "execution_count": 6,
     "metadata": {},
     "output_type": "execute_result"
    }
   ],
   "source": [
    "data['Class'].value_counts()"
   ]
  },
  {
   "cell_type": "code",
   "execution_count": 7,
   "metadata": {
    "id": "FdAZWQCxr6Av"
   },
   "outputs": [],
   "source": [
    "###Balance DataSet\n"
   ]
  },
  {
   "cell_type": "code",
   "execution_count": 8,
   "metadata": {
    "id": "JS8N8Oa3r6Av"
   },
   "outputs": [],
   "source": [
    "non_fraud = data[data['Class']==0]\n",
    "fraud = data[data['Class']==1]"
   ]
  },
  {
   "cell_type": "code",
   "execution_count": 9,
   "metadata": {
    "id": "fd6F13dyr6Aw",
    "outputId": "8da394e2-0ed8-4d6a-d7c2-048e57182b97"
   },
   "outputs": [
    {
     "data": {
      "text/plain": [
       "((284315, 31), (492, 31))"
      ]
     },
     "execution_count": 9,
     "metadata": {},
     "output_type": "execute_result"
    }
   ],
   "source": [
    "non_fraud.shape, fraud.shape"
   ]
  },
  {
   "cell_type": "code",
   "execution_count": 10,
   "metadata": {
    "id": "0gbxcampr6Aw",
    "outputId": "86b53ca9-52d2-47a0-e4a1-c843f0b93650"
   },
   "outputs": [
    {
     "data": {
      "text/plain": [
       "(492, 31)"
      ]
     },
     "execution_count": 10,
     "metadata": {},
     "output_type": "execute_result"
    }
   ],
   "source": [
    "non_fraud = non_fraud.sample(fraud.shape[0])\n",
    "non_fraud.shape"
   ]
  },
  {
   "cell_type": "code",
   "execution_count": 11,
   "metadata": {
    "id": "juwcS1HLr6Aw",
    "outputId": "bdb0445e-5cae-40de-f783-62bb22260984"
   },
   "outputs": [
    {
     "data": {
      "text/html": [
       "<div>\n",
       "<style scoped>\n",
       "    .dataframe tbody tr th:only-of-type {\n",
       "        vertical-align: middle;\n",
       "    }\n",
       "\n",
       "    .dataframe tbody tr th {\n",
       "        vertical-align: top;\n",
       "    }\n",
       "\n",
       "    .dataframe thead th {\n",
       "        text-align: right;\n",
       "    }\n",
       "</style>\n",
       "<table border=\"1\" class=\"dataframe\">\n",
       "  <thead>\n",
       "    <tr style=\"text-align: right;\">\n",
       "      <th></th>\n",
       "      <th>Time</th>\n",
       "      <th>V1</th>\n",
       "      <th>V2</th>\n",
       "      <th>V3</th>\n",
       "      <th>V4</th>\n",
       "      <th>V5</th>\n",
       "      <th>V6</th>\n",
       "      <th>V7</th>\n",
       "      <th>V8</th>\n",
       "      <th>V9</th>\n",
       "      <th>...</th>\n",
       "      <th>V21</th>\n",
       "      <th>V22</th>\n",
       "      <th>V23</th>\n",
       "      <th>V24</th>\n",
       "      <th>V25</th>\n",
       "      <th>V26</th>\n",
       "      <th>V27</th>\n",
       "      <th>V28</th>\n",
       "      <th>Amount</th>\n",
       "      <th>Class</th>\n",
       "    </tr>\n",
       "  </thead>\n",
       "  <tbody>\n",
       "    <tr>\n",
       "      <th>0</th>\n",
       "      <td>406.0</td>\n",
       "      <td>-2.312227</td>\n",
       "      <td>1.951992</td>\n",
       "      <td>-1.609851</td>\n",
       "      <td>3.997906</td>\n",
       "      <td>-0.522188</td>\n",
       "      <td>-1.426545</td>\n",
       "      <td>-2.537387</td>\n",
       "      <td>1.391657</td>\n",
       "      <td>-2.770089</td>\n",
       "      <td>...</td>\n",
       "      <td>0.517232</td>\n",
       "      <td>-0.035049</td>\n",
       "      <td>-0.465211</td>\n",
       "      <td>0.320198</td>\n",
       "      <td>0.044519</td>\n",
       "      <td>0.177840</td>\n",
       "      <td>0.261145</td>\n",
       "      <td>-0.143276</td>\n",
       "      <td>0.00</td>\n",
       "      <td>1</td>\n",
       "    </tr>\n",
       "    <tr>\n",
       "      <th>1</th>\n",
       "      <td>472.0</td>\n",
       "      <td>-3.043541</td>\n",
       "      <td>-3.157307</td>\n",
       "      <td>1.088463</td>\n",
       "      <td>2.288644</td>\n",
       "      <td>1.359805</td>\n",
       "      <td>-1.064823</td>\n",
       "      <td>0.325574</td>\n",
       "      <td>-0.067794</td>\n",
       "      <td>-0.270953</td>\n",
       "      <td>...</td>\n",
       "      <td>0.661696</td>\n",
       "      <td>0.435477</td>\n",
       "      <td>1.375966</td>\n",
       "      <td>-0.293803</td>\n",
       "      <td>0.279798</td>\n",
       "      <td>-0.145362</td>\n",
       "      <td>-0.252773</td>\n",
       "      <td>0.035764</td>\n",
       "      <td>529.00</td>\n",
       "      <td>1</td>\n",
       "    </tr>\n",
       "    <tr>\n",
       "      <th>2</th>\n",
       "      <td>4462.0</td>\n",
       "      <td>-2.303350</td>\n",
       "      <td>1.759247</td>\n",
       "      <td>-0.359745</td>\n",
       "      <td>2.330243</td>\n",
       "      <td>-0.821628</td>\n",
       "      <td>-0.075788</td>\n",
       "      <td>0.562320</td>\n",
       "      <td>-0.399147</td>\n",
       "      <td>-0.238253</td>\n",
       "      <td>...</td>\n",
       "      <td>-0.294166</td>\n",
       "      <td>-0.932391</td>\n",
       "      <td>0.172726</td>\n",
       "      <td>-0.087330</td>\n",
       "      <td>-0.156114</td>\n",
       "      <td>-0.542628</td>\n",
       "      <td>0.039566</td>\n",
       "      <td>-0.153029</td>\n",
       "      <td>239.93</td>\n",
       "      <td>1</td>\n",
       "    </tr>\n",
       "    <tr>\n",
       "      <th>3</th>\n",
       "      <td>6986.0</td>\n",
       "      <td>-4.397974</td>\n",
       "      <td>1.358367</td>\n",
       "      <td>-2.592844</td>\n",
       "      <td>2.679787</td>\n",
       "      <td>-1.128131</td>\n",
       "      <td>-1.706536</td>\n",
       "      <td>-3.496197</td>\n",
       "      <td>-0.248778</td>\n",
       "      <td>-0.247768</td>\n",
       "      <td>...</td>\n",
       "      <td>0.573574</td>\n",
       "      <td>0.176968</td>\n",
       "      <td>-0.436207</td>\n",
       "      <td>-0.053502</td>\n",
       "      <td>0.252405</td>\n",
       "      <td>-0.657488</td>\n",
       "      <td>-0.827136</td>\n",
       "      <td>0.849573</td>\n",
       "      <td>59.00</td>\n",
       "      <td>1</td>\n",
       "    </tr>\n",
       "    <tr>\n",
       "      <th>4</th>\n",
       "      <td>7519.0</td>\n",
       "      <td>1.234235</td>\n",
       "      <td>3.019740</td>\n",
       "      <td>-4.304597</td>\n",
       "      <td>4.732795</td>\n",
       "      <td>3.624201</td>\n",
       "      <td>-1.357746</td>\n",
       "      <td>1.713445</td>\n",
       "      <td>-0.496358</td>\n",
       "      <td>-1.282858</td>\n",
       "      <td>...</td>\n",
       "      <td>-0.379068</td>\n",
       "      <td>-0.704181</td>\n",
       "      <td>-0.656805</td>\n",
       "      <td>-1.632653</td>\n",
       "      <td>1.488901</td>\n",
       "      <td>0.566797</td>\n",
       "      <td>-0.010016</td>\n",
       "      <td>0.146793</td>\n",
       "      <td>1.00</td>\n",
       "      <td>1</td>\n",
       "    </tr>\n",
       "    <tr>\n",
       "      <th>...</th>\n",
       "      <td>...</td>\n",
       "      <td>...</td>\n",
       "      <td>...</td>\n",
       "      <td>...</td>\n",
       "      <td>...</td>\n",
       "      <td>...</td>\n",
       "      <td>...</td>\n",
       "      <td>...</td>\n",
       "      <td>...</td>\n",
       "      <td>...</td>\n",
       "      <td>...</td>\n",
       "      <td>...</td>\n",
       "      <td>...</td>\n",
       "      <td>...</td>\n",
       "      <td>...</td>\n",
       "      <td>...</td>\n",
       "      <td>...</td>\n",
       "      <td>...</td>\n",
       "      <td>...</td>\n",
       "      <td>...</td>\n",
       "      <td>...</td>\n",
       "    </tr>\n",
       "    <tr>\n",
       "      <th>979</th>\n",
       "      <td>63749.0</td>\n",
       "      <td>-1.034064</td>\n",
       "      <td>-0.211139</td>\n",
       "      <td>1.218447</td>\n",
       "      <td>-1.743550</td>\n",
       "      <td>-0.659352</td>\n",
       "      <td>-1.246351</td>\n",
       "      <td>-0.489158</td>\n",
       "      <td>0.488862</td>\n",
       "      <td>-1.511237</td>\n",
       "      <td>...</td>\n",
       "      <td>-0.183922</td>\n",
       "      <td>-0.518729</td>\n",
       "      <td>-0.061345</td>\n",
       "      <td>0.525598</td>\n",
       "      <td>-0.094717</td>\n",
       "      <td>0.868313</td>\n",
       "      <td>-0.193542</td>\n",
       "      <td>-0.159282</td>\n",
       "      <td>0.95</td>\n",
       "      <td>0</td>\n",
       "    </tr>\n",
       "    <tr>\n",
       "      <th>980</th>\n",
       "      <td>149088.0</td>\n",
       "      <td>-0.415437</td>\n",
       "      <td>1.046468</td>\n",
       "      <td>0.884422</td>\n",
       "      <td>-0.478184</td>\n",
       "      <td>0.974360</td>\n",
       "      <td>-0.077705</td>\n",
       "      <td>1.069993</td>\n",
       "      <td>-0.130108</td>\n",
       "      <td>-0.667591</td>\n",
       "      <td>...</td>\n",
       "      <td>-0.343877</td>\n",
       "      <td>-0.920351</td>\n",
       "      <td>-0.427062</td>\n",
       "      <td>-1.040254</td>\n",
       "      <td>0.513103</td>\n",
       "      <td>0.528647</td>\n",
       "      <td>-0.014114</td>\n",
       "      <td>0.038645</td>\n",
       "      <td>1.98</td>\n",
       "      <td>0</td>\n",
       "    </tr>\n",
       "    <tr>\n",
       "      <th>981</th>\n",
       "      <td>54651.0</td>\n",
       "      <td>1.233680</td>\n",
       "      <td>0.638164</td>\n",
       "      <td>-0.017577</td>\n",
       "      <td>2.306661</td>\n",
       "      <td>0.479263</td>\n",
       "      <td>-0.217407</td>\n",
       "      <td>0.435805</td>\n",
       "      <td>-0.193665</td>\n",
       "      <td>-0.933604</td>\n",
       "      <td>...</td>\n",
       "      <td>-0.086100</td>\n",
       "      <td>-0.291935</td>\n",
       "      <td>-0.178297</td>\n",
       "      <td>-0.441102</td>\n",
       "      <td>0.729140</td>\n",
       "      <td>0.054695</td>\n",
       "      <td>-0.029489</td>\n",
       "      <td>0.011726</td>\n",
       "      <td>23.49</td>\n",
       "      <td>0</td>\n",
       "    </tr>\n",
       "    <tr>\n",
       "      <th>982</th>\n",
       "      <td>60381.0</td>\n",
       "      <td>-0.980545</td>\n",
       "      <td>0.962502</td>\n",
       "      <td>-0.415968</td>\n",
       "      <td>-1.624120</td>\n",
       "      <td>2.853604</td>\n",
       "      <td>3.031165</td>\n",
       "      <td>0.234808</td>\n",
       "      <td>0.695657</td>\n",
       "      <td>0.219064</td>\n",
       "      <td>...</td>\n",
       "      <td>-0.449144</td>\n",
       "      <td>-1.089443</td>\n",
       "      <td>-0.148069</td>\n",
       "      <td>0.928539</td>\n",
       "      <td>0.136663</td>\n",
       "      <td>-0.048630</td>\n",
       "      <td>0.175930</td>\n",
       "      <td>-0.040847</td>\n",
       "      <td>3.57</td>\n",
       "      <td>0</td>\n",
       "    </tr>\n",
       "    <tr>\n",
       "      <th>983</th>\n",
       "      <td>165974.0</td>\n",
       "      <td>-1.296724</td>\n",
       "      <td>0.957637</td>\n",
       "      <td>-0.310136</td>\n",
       "      <td>-2.136375</td>\n",
       "      <td>-0.786229</td>\n",
       "      <td>-0.476176</td>\n",
       "      <td>-0.782208</td>\n",
       "      <td>0.749611</td>\n",
       "      <td>-0.533683</td>\n",
       "      <td>...</td>\n",
       "      <td>0.495640</td>\n",
       "      <td>1.149498</td>\n",
       "      <td>-0.349331</td>\n",
       "      <td>-0.760123</td>\n",
       "      <td>0.262558</td>\n",
       "      <td>-0.039834</td>\n",
       "      <td>-0.470826</td>\n",
       "      <td>-0.054373</td>\n",
       "      <td>20.97</td>\n",
       "      <td>0</td>\n",
       "    </tr>\n",
       "  </tbody>\n",
       "</table>\n",
       "<p>984 rows × 31 columns</p>\n",
       "</div>"
      ],
      "text/plain": [
       "         Time        V1        V2        V3        V4        V5        V6  \\\n",
       "0       406.0 -2.312227  1.951992 -1.609851  3.997906 -0.522188 -1.426545   \n",
       "1       472.0 -3.043541 -3.157307  1.088463  2.288644  1.359805 -1.064823   \n",
       "2      4462.0 -2.303350  1.759247 -0.359745  2.330243 -0.821628 -0.075788   \n",
       "3      6986.0 -4.397974  1.358367 -2.592844  2.679787 -1.128131 -1.706536   \n",
       "4      7519.0  1.234235  3.019740 -4.304597  4.732795  3.624201 -1.357746   \n",
       "..        ...       ...       ...       ...       ...       ...       ...   \n",
       "979   63749.0 -1.034064 -0.211139  1.218447 -1.743550 -0.659352 -1.246351   \n",
       "980  149088.0 -0.415437  1.046468  0.884422 -0.478184  0.974360 -0.077705   \n",
       "981   54651.0  1.233680  0.638164 -0.017577  2.306661  0.479263 -0.217407   \n",
       "982   60381.0 -0.980545  0.962502 -0.415968 -1.624120  2.853604  3.031165   \n",
       "983  165974.0 -1.296724  0.957637 -0.310136 -2.136375 -0.786229 -0.476176   \n",
       "\n",
       "           V7        V8        V9  ...       V21       V22       V23  \\\n",
       "0   -2.537387  1.391657 -2.770089  ...  0.517232 -0.035049 -0.465211   \n",
       "1    0.325574 -0.067794 -0.270953  ...  0.661696  0.435477  1.375966   \n",
       "2    0.562320 -0.399147 -0.238253  ... -0.294166 -0.932391  0.172726   \n",
       "3   -3.496197 -0.248778 -0.247768  ...  0.573574  0.176968 -0.436207   \n",
       "4    1.713445 -0.496358 -1.282858  ... -0.379068 -0.704181 -0.656805   \n",
       "..        ...       ...       ...  ...       ...       ...       ...   \n",
       "979 -0.489158  0.488862 -1.511237  ... -0.183922 -0.518729 -0.061345   \n",
       "980  1.069993 -0.130108 -0.667591  ... -0.343877 -0.920351 -0.427062   \n",
       "981  0.435805 -0.193665 -0.933604  ... -0.086100 -0.291935 -0.178297   \n",
       "982  0.234808  0.695657  0.219064  ... -0.449144 -1.089443 -0.148069   \n",
       "983 -0.782208  0.749611 -0.533683  ...  0.495640  1.149498 -0.349331   \n",
       "\n",
       "          V24       V25       V26       V27       V28  Amount  Class  \n",
       "0    0.320198  0.044519  0.177840  0.261145 -0.143276    0.00      1  \n",
       "1   -0.293803  0.279798 -0.145362 -0.252773  0.035764  529.00      1  \n",
       "2   -0.087330 -0.156114 -0.542628  0.039566 -0.153029  239.93      1  \n",
       "3   -0.053502  0.252405 -0.657488 -0.827136  0.849573   59.00      1  \n",
       "4   -1.632653  1.488901  0.566797 -0.010016  0.146793    1.00      1  \n",
       "..        ...       ...       ...       ...       ...     ...    ...  \n",
       "979  0.525598 -0.094717  0.868313 -0.193542 -0.159282    0.95      0  \n",
       "980 -1.040254  0.513103  0.528647 -0.014114  0.038645    1.98      0  \n",
       "981 -0.441102  0.729140  0.054695 -0.029489  0.011726   23.49      0  \n",
       "982  0.928539  0.136663 -0.048630  0.175930 -0.040847    3.57      0  \n",
       "983 -0.760123  0.262558 -0.039834 -0.470826 -0.054373   20.97      0  \n",
       "\n",
       "[984 rows x 31 columns]"
      ]
     },
     "execution_count": 11,
     "metadata": {},
     "output_type": "execute_result"
    }
   ],
   "source": [
    "data = fraud.append(non_fraud, ignore_index=True)\n",
    "data"
   ]
  },
  {
   "cell_type": "code",
   "execution_count": 12,
   "metadata": {
    "id": "Ghl9KMr7r6Ax",
    "outputId": "468c9de8-c3f9-466c-ff8a-290afd823172"
   },
   "outputs": [
    {
     "data": {
      "text/plain": [
       "1    492\n",
       "0    492\n",
       "Name: Class, dtype: int64"
      ]
     },
     "execution_count": 12,
     "metadata": {},
     "output_type": "execute_result"
    }
   ],
   "source": [
    "data['Class'].value_counts()"
   ]
  },
  {
   "cell_type": "code",
   "execution_count": 13,
   "metadata": {
    "id": "MbNtneYkr6Ax"
   },
   "outputs": [],
   "source": [
    "x = data.drop('Class', axis = 1)\n",
    "y = data['Class']"
   ]
  },
  {
   "cell_type": "code",
   "execution_count": 14,
   "metadata": {
    "id": "fPOE--WHr6Ax"
   },
   "outputs": [],
   "source": [
    "x_train, x_test, y_train, y_test = train_test_split(x, y, test_size = 0.2, random_state = 0, stratify = y)"
   ]
  },
  {
   "cell_type": "code",
   "execution_count": 15,
   "metadata": {
    "id": "9flTGTj0r6Ay",
    "outputId": "c77db23a-6efc-4fe0-8343-742bf69876fd"
   },
   "outputs": [
    {
     "data": {
      "text/plain": [
       "((787, 30), (197, 30))"
      ]
     },
     "execution_count": 15,
     "metadata": {},
     "output_type": "execute_result"
    }
   ],
   "source": [
    "x_train.shape, x_test.shape"
   ]
  },
  {
   "cell_type": "code",
   "execution_count": 16,
   "metadata": {
    "id": "JIJeSK6Gr6Ay"
   },
   "outputs": [],
   "source": [
    "scaler = StandardScaler()\n",
    "x_train = scaler.fit_transform(x_train)\n",
    "x_test = scaler.transform(x_test)"
   ]
  },
  {
   "cell_type": "code",
   "execution_count": 17,
   "metadata": {
    "id": "32W-aPaVr6Ay"
   },
   "outputs": [],
   "source": [
    "y_train = y_train.to_numpy()\n",
    "y_test = y_test.to_numpy()"
   ]
  },
  {
   "cell_type": "code",
   "execution_count": 18,
   "metadata": {
    "id": "AFBCtr37r6Ay",
    "outputId": "10ff0999-8aca-4768-d610-2cc43d7775fb"
   },
   "outputs": [
    {
     "data": {
      "text/plain": [
       "(787, 30)"
      ]
     },
     "execution_count": 18,
     "metadata": {},
     "output_type": "execute_result"
    }
   ],
   "source": [
    "x_train.shape"
   ]
  },
  {
   "cell_type": "code",
   "execution_count": 19,
   "metadata": {
    "id": "XlFAg9Gur6Az"
   },
   "outputs": [],
   "source": [
    "x_train = x_train.reshape(x_train.shape[0], x_train.shape[1], 1)\n",
    "x_test = x_test.reshape(x_test.shape[0], x_test.shape[1], 1)"
   ]
  },
  {
   "cell_type": "code",
   "execution_count": 20,
   "metadata": {
    "id": "FGLzfOstr6Az",
    "outputId": "252b2294-2af2-4d37-d5af-fa74aa702133"
   },
   "outputs": [
    {
     "data": {
      "text/plain": [
       "((787, 30, 1), (197, 30, 1))"
      ]
     },
     "execution_count": 20,
     "metadata": {},
     "output_type": "execute_result"
    }
   ],
   "source": [
    "x_train.shape, x_test.shape"
   ]
  },
  {
   "cell_type": "code",
   "execution_count": 21,
   "metadata": {
    "id": "JJTP6N3Lr6Az"
   },
   "outputs": [],
   "source": [
    "### Build CNN"
   ]
  },
  {
   "cell_type": "code",
   "execution_count": 22,
   "metadata": {
    "colab": {
     "base_uri": "https://localhost:8080/"
    },
    "id": "MJlFtCTGr6Az",
    "outputId": "640f49de-2018-4b0e-b6c6-600339744cae"
   },
   "outputs": [
    {
     "name": "stdout",
     "output_type": "stream",
     "text": [
      "Model: \"sequential\"\n",
      "_________________________________________________________________\n",
      "Layer (type)                 Output Shape              Param #   \n",
      "=================================================================\n",
      "conv1d (Conv1D)              (None, 29, 32)            96        \n",
      "_________________________________________________________________\n",
      "batch_normalization (BatchNo (None, 29, 32)            128       \n",
      "_________________________________________________________________\n",
      "dropout (Dropout)            (None, 29, 32)            0         \n",
      "_________________________________________________________________\n",
      "conv1d_1 (Conv1D)            (None, 28, 64)            4160      \n",
      "_________________________________________________________________\n",
      "batch_normalization_1 (Batch (None, 28, 64)            256       \n",
      "_________________________________________________________________\n",
      "dropout_1 (Dropout)          (None, 28, 64)            0         \n",
      "_________________________________________________________________\n",
      "flatten (Flatten)            (None, 1792)              0         \n",
      "_________________________________________________________________\n",
      "dense (Dense)                (None, 64)                114752    \n",
      "_________________________________________________________________\n",
      "dropout_2 (Dropout)          (None, 64)                0         \n",
      "_________________________________________________________________\n",
      "dense_1 (Dense)              (None, 1)                 65        \n",
      "=================================================================\n",
      "Total params: 119,457\n",
      "Trainable params: 119,265\n",
      "Non-trainable params: 192\n",
      "_________________________________________________________________\n"
     ]
    }
   ],
   "source": [
    "epochs = 20\n",
    "model = keras.Sequential()\n",
    "model.add(layers.Conv1D(32, 2, activation='relu', input_shape= (30,1)))\n",
    "model.add(layers.BatchNormalization())\n",
    "model.add(layers.Dropout(0.5))\n",
    "\n",
    "model.add(layers.Conv1D(64, 2, activation='relu'))\n",
    "model.add(layers.BatchNormalization())\n",
    "model.add(layers.Dropout(0.5))\n",
    "          \n",
    "model.add(layers.Flatten())\n",
    "model.add(layers.Dense(64, activation='relu'))\n",
    "model.add(layers.Dropout(0.5))\n",
    "\n",
    "model.add(layers.Dense(1, activation='sigmoid'))\n",
    "model.build()  \n",
    "model.summary()"
   ]
  },
  {
   "cell_type": "code",
   "execution_count": 23,
   "metadata": {
    "id": "JDAXro8Nr6A0",
    "outputId": "616a7aa4-e6e8-4579-f0b7-155455101a08"
   },
   "outputs": [],
   "source": [
    "model.compile(optimizer=Adam(lr=0.0001), loss = 'binary_crossentropy', metrics=['accuracy'])"
   ]
  },
  {
   "cell_type": "code",
   "execution_count": 24,
   "metadata": {
    "id": "KcmOU0nqr6A0",
    "outputId": "f0a87586-38c4-4638-9da4-24c56b58eac4"
   },
   "outputs": [
    {
     "name": "stdout",
     "output_type": "stream",
     "text": [
      "Epoch 1/20\n",
      "25/25 [==============================] - 3s 74ms/step - loss: 1.1144 - accuracy: 0.5277 - val_loss: 0.6090 - val_accuracy: 0.7360\n",
      "Epoch 2/20\n",
      "25/25 [==============================] - 0s 10ms/step - loss: 0.5199 - accuracy: 0.7398 - val_loss: 0.5800 - val_accuracy: 0.6548\n",
      "Epoch 3/20\n",
      "25/25 [==============================] - 0s 9ms/step - loss: 0.4321 - accuracy: 0.7985 - val_loss: 0.5667 - val_accuracy: 0.6548\n",
      "Epoch 4/20\n",
      "25/25 [==============================] - 0s 10ms/step - loss: 0.4009 - accuracy: 0.8466 - val_loss: 0.5485 - val_accuracy: 0.6650\n",
      "Epoch 5/20\n",
      "25/25 [==============================] - 0s 9ms/step - loss: 0.3108 - accuracy: 0.8728 - val_loss: 0.5212 - val_accuracy: 0.6904\n",
      "Epoch 6/20\n",
      "25/25 [==============================] - 0s 12ms/step - loss: 0.3345 - accuracy: 0.8742 - val_loss: 0.4865 - val_accuracy: 0.7310\n",
      "Epoch 7/20\n",
      "25/25 [==============================] - 0s 10ms/step - loss: 0.2967 - accuracy: 0.8779 - val_loss: 0.4366 - val_accuracy: 0.7817\n",
      "Epoch 8/20\n",
      "25/25 [==============================] - 0s 9ms/step - loss: 0.3048 - accuracy: 0.8933 - val_loss: 0.3915 - val_accuracy: 0.8173\n",
      "Epoch 9/20\n",
      "25/25 [==============================] - 0s 11ms/step - loss: 0.2929 - accuracy: 0.8876 - val_loss: 0.3599 - val_accuracy: 0.8731\n",
      "Epoch 10/20\n",
      "25/25 [==============================] - 0s 11ms/step - loss: 0.2639 - accuracy: 0.8930 - val_loss: 0.3329 - val_accuracy: 0.8832\n",
      "Epoch 11/20\n",
      "25/25 [==============================] - 0s 9ms/step - loss: 0.2436 - accuracy: 0.9181 - val_loss: 0.3144 - val_accuracy: 0.8883\n",
      "Epoch 12/20\n",
      "25/25 [==============================] - 0s 10ms/step - loss: 0.2092 - accuracy: 0.9270 - val_loss: 0.2976 - val_accuracy: 0.8883\n",
      "Epoch 13/20\n",
      "25/25 [==============================] - 0s 9ms/step - loss: 0.2393 - accuracy: 0.9095 - val_loss: 0.2892 - val_accuracy: 0.8883\n",
      "Epoch 14/20\n",
      "25/25 [==============================] - 0s 10ms/step - loss: 0.2775 - accuracy: 0.9124 - val_loss: 0.2746 - val_accuracy: 0.8883\n",
      "Epoch 15/20\n",
      "25/25 [==============================] - 0s 13ms/step - loss: 0.2185 - accuracy: 0.9219 - val_loss: 0.2669 - val_accuracy: 0.8985\n",
      "Epoch 16/20\n",
      "25/25 [==============================] - 0s 10ms/step - loss: 0.2048 - accuracy: 0.9345 - val_loss: 0.2638 - val_accuracy: 0.8985\n",
      "Epoch 17/20\n",
      "25/25 [==============================] - 0s 10ms/step - loss: 0.2007 - accuracy: 0.9420 - val_loss: 0.2562 - val_accuracy: 0.8985\n",
      "Epoch 18/20\n",
      "25/25 [==============================] - 0s 10ms/step - loss: 0.2460 - accuracy: 0.9218 - val_loss: 0.2508 - val_accuracy: 0.9086\n",
      "Epoch 19/20\n",
      "25/25 [==============================] - 0s 11ms/step - loss: 0.2150 - accuracy: 0.9302 - val_loss: 0.2475 - val_accuracy: 0.9086\n",
      "Epoch 20/20\n",
      "25/25 [==============================] - 0s 10ms/step - loss: 0.2309 - accuracy: 0.9173 - val_loss: 0.2464 - val_accuracy: 0.9086\n"
     ]
    }
   ],
   "source": [
    "history = model.fit(x_train, y_train, epochs=epochs, validation_data=(x_test, y_test), verbose=1)"
   ]
  },
  {
   "cell_type": "code",
   "execution_count": 25,
   "metadata": {
    "id": "JWnL0mWCr6A0"
   },
   "outputs": [],
   "source": [
    "def plot_learningCurve(history, epoch):\n",
    "    # Plot training & validation accuracy values\n",
    "    epoch_range = range(1, epoch+1)\n",
    "    plt.plot(epoch_range, history.history['accuracy'])\n",
    "    plt.plot(epoch_range, history.history['val_accuracy'])\n",
    "    plt.title('Model accuracy')\n",
    "    plt.ylabel('Accuracy')\n",
    "    plt.xlabel('Epoch')\n",
    "    ##plt.legend('Train', 'Val', loc='upper left')\n",
    "    plt.show()\n",
    "    \n",
    "    #Plot training & validation loss values\n",
    "    plt.plot(epoch_range, history.history['loss'])\n",
    "    plt.plot(epoch_range, history.history['val_loss'])\n",
    "    plt.title('Model loss')\n",
    "    plt.ylabel('Loss')\n",
    "    plt.xlabel('Epoch')\n",
    "    ##plt.legend('Train', 'Val', loc='upper left')\n",
    "    plt.show()"
   ]
  },
  {
   "cell_type": "code",
   "execution_count": 26,
   "metadata": {
    "id": "nuAdg_tOr6A0",
    "outputId": "00d100f2-f0ab-41e6-fc5c-5bfe7f9cc2ef"
   },
   "outputs": [
    {
     "data": {
      "image/png": "[encoded data removed]",
      "text/plain": [
       "<Figure size 432x288 with 1 Axes>"
      ]
     },
     "metadata": {
      "needs_background": "light"
     },
     "output_type": "display_data"
    },
    {
     "data": {
      "image/png": "[encoded data removed]",
      "text/plain": [
       "<Figure size 432x288 with 1 Axes>"
      ]
     },
     "metadata": {
      "needs_background": "light"
     },
     "output_type": "display_data"
    }
   ],
   "source": [
    "plot_learningCurve(history, epochs)"
   ]
  },
  {
   "cell_type": "code",
   "execution_count": 27,
   "metadata": {
    "id": "eguUwNQpr6A1"
   },
   "outputs": [],
   "source": [
    "### Adding MaxPool"
   ]
  },
  {
   "cell_type": "code",
   "execution_count": 28,
   "metadata": {
    "id": "9XP4H285r6A1",
    "outputId": "b7a6a0d0-4d42-4ef5-9a3f-10835745d842"
   },
   "outputs": [
    {
     "name": "stdout",
     "output_type": "stream",
     "text": [
      "Epoch 1/50\n",
      "25/25 [==============================] - 2s 21ms/step - loss: 1.0224 - accuracy: 0.5163 - val_loss: 0.6304 - val_accuracy: 0.6142\n",
      "Epoch 2/50\n",
      "25/25 [==============================] - 0s 8ms/step - loss: 0.9348 - accuracy: 0.5855 - val_loss: 0.6099 - val_accuracy: 0.7817\n",
      "Epoch 3/50\n",
      "25/25 [==============================] - 0s 8ms/step - loss: 0.7832 - accuracy: 0.6551 - val_loss: 0.5896 - val_accuracy: 0.7665\n",
      "Epoch 4/50\n",
      "25/25 [==============================] - 0s 7ms/step - loss: 0.6690 - accuracy: 0.6608 - val_loss: 0.5706 - val_accuracy: 0.7563\n",
      "Epoch 5/50\n",
      "25/25 [==============================] - 0s 7ms/step - loss: 0.6738 - accuracy: 0.6700 - val_loss: 0.5504 - val_accuracy: 0.7462\n",
      "Epoch 6/50\n",
      "25/25 [==============================] - 0s 8ms/step - loss: 0.6774 - accuracy: 0.6885 - val_loss: 0.5280 - val_accuracy: 0.7563\n",
      "Epoch 7/50\n",
      "25/25 [==============================] - 0s 7ms/step - loss: 0.6413 - accuracy: 0.7060 - val_loss: 0.5049 - val_accuracy: 0.7665\n",
      "Epoch 8/50\n",
      "25/25 [==============================] - 0s 7ms/step - loss: 0.5942 - accuracy: 0.7358 - val_loss: 0.4807 - val_accuracy: 0.7766\n",
      "Epoch 9/50\n",
      "25/25 [==============================] - 0s 9ms/step - loss: 0.5961 - accuracy: 0.7305 - val_loss: 0.4562 - val_accuracy: 0.7919\n",
      "Epoch 10/50\n",
      "25/25 [==============================] - 0s 10ms/step - loss: 0.5425 - accuracy: 0.7692 - val_loss: 0.4319 - val_accuracy: 0.8071\n",
      "Epoch 11/50\n",
      "25/25 [==============================] - 0s 7ms/step - loss: 0.5481 - accuracy: 0.7552 - val_loss: 0.4086 - val_accuracy: 0.8223\n",
      "Epoch 12/50\n",
      "25/25 [==============================] - 0s 7ms/step - loss: 0.4421 - accuracy: 0.8071 - val_loss: 0.3864 - val_accuracy: 0.8477\n",
      "Epoch 13/50\n",
      "25/25 [==============================] - 0s 7ms/step - loss: 0.4444 - accuracy: 0.8206 - val_loss: 0.3677 - val_accuracy: 0.8680\n",
      "Epoch 14/50\n",
      "25/25 [==============================] - 0s 7ms/step - loss: 0.4431 - accuracy: 0.8102 - val_loss: 0.3523 - val_accuracy: 0.8680\n",
      "Epoch 15/50\n",
      "25/25 [==============================] - 0s 7ms/step - loss: 0.4584 - accuracy: 0.8210 - val_loss: 0.3368 - val_accuracy: 0.8680\n",
      "Epoch 16/50\n",
      "25/25 [==============================] - 0s 8ms/step - loss: 0.4283 - accuracy: 0.8307 - val_loss: 0.3248 - val_accuracy: 0.8782\n",
      "Epoch 17/50\n",
      "25/25 [==============================] - 0s 7ms/step - loss: 0.3778 - accuracy: 0.8380 - val_loss: 0.3163 - val_accuracy: 0.8782\n",
      "Epoch 18/50\n",
      "25/25 [==============================] - 0s 7ms/step - loss: 0.4136 - accuracy: 0.8209 - val_loss: 0.3089 - val_accuracy: 0.8782\n",
      "Epoch 19/50\n",
      "25/25 [==============================] - 0s 9ms/step - loss: 0.3112 - accuracy: 0.8820 - val_loss: 0.3019 - val_accuracy: 0.8832\n",
      "Epoch 20/50\n",
      "25/25 [==============================] - 0s 7ms/step - loss: 0.4120 - accuracy: 0.8269 - val_loss: 0.2952 - val_accuracy: 0.8883\n",
      "Epoch 21/50\n",
      "25/25 [==============================] - 0s 9ms/step - loss: 0.4396 - accuracy: 0.8493 - val_loss: 0.2899 - val_accuracy: 0.8985\n",
      "Epoch 22/50\n",
      "25/25 [==============================] - 0s 7ms/step - loss: 0.4226 - accuracy: 0.8531 - val_loss: 0.2861 - val_accuracy: 0.8985\n",
      "Epoch 23/50\n",
      "25/25 [==============================] - 0s 7ms/step - loss: 0.3686 - accuracy: 0.8645 - val_loss: 0.2848 - val_accuracy: 0.8985\n",
      "Epoch 24/50\n",
      "25/25 [==============================] - 0s 7ms/step - loss: 0.3682 - accuracy: 0.8619 - val_loss: 0.2851 - val_accuracy: 0.9036\n",
      "Epoch 25/50\n",
      "25/25 [==============================] - 0s 7ms/step - loss: 0.3882 - accuracy: 0.8487 - val_loss: 0.2824 - val_accuracy: 0.9086\n",
      "Epoch 26/50\n",
      "25/25 [==============================] - 0s 8ms/step - loss: 0.3859 - accuracy: 0.8644 - val_loss: 0.2829 - val_accuracy: 0.9137\n",
      "Epoch 27/50\n",
      "25/25 [==============================] - 0s 8ms/step - loss: 0.4051 - accuracy: 0.8624 - val_loss: 0.2817 - val_accuracy: 0.9137\n",
      "Epoch 28/50\n",
      "25/25 [==============================] - 0s 7ms/step - loss: 0.3421 - accuracy: 0.8638 - val_loss: 0.2794 - val_accuracy: 0.9137\n",
      "Epoch 29/50\n",
      "25/25 [==============================] - 0s 7ms/step - loss: 0.3475 - accuracy: 0.8554 - val_loss: 0.2786 - val_accuracy: 0.9137\n",
      "Epoch 30/50\n",
      "25/25 [==============================] - 0s 8ms/step - loss: 0.2970 - accuracy: 0.8975 - val_loss: 0.2788 - val_accuracy: 0.9137\n",
      "Epoch 31/50\n",
      "25/25 [==============================] - 0s 9ms/step - loss: 0.3016 - accuracy: 0.8848 - val_loss: 0.2748 - val_accuracy: 0.9137\n",
      "Epoch 32/50\n",
      "25/25 [==============================] - 0s 9ms/step - loss: 0.3357 - accuracy: 0.8838 - val_loss: 0.2745 - val_accuracy: 0.9137\n",
      "Epoch 33/50\n",
      "25/25 [==============================] - 0s 8ms/step - loss: 0.2800 - accuracy: 0.8855 - val_loss: 0.2736 - val_accuracy: 0.9137\n",
      "Epoch 34/50\n",
      "25/25 [==============================] - 0s 9ms/step - loss: 0.2875 - accuracy: 0.8933 - val_loss: 0.2726 - val_accuracy: 0.9137\n",
      "Epoch 35/50\n",
      "25/25 [==============================] - 0s 7ms/step - loss: 0.3557 - accuracy: 0.8755 - val_loss: 0.2712 - val_accuracy: 0.9137\n",
      "Epoch 36/50\n",
      "25/25 [==============================] - 0s 8ms/step - loss: 0.2979 - accuracy: 0.8880 - val_loss: 0.2702 - val_accuracy: 0.9137\n",
      "Epoch 37/50\n",
      "25/25 [==============================] - 0s 9ms/step - loss: 0.3047 - accuracy: 0.8906 - val_loss: 0.2704 - val_accuracy: 0.9137\n",
      "Epoch 38/50\n",
      "25/25 [==============================] - 0s 8ms/step - loss: 0.3230 - accuracy: 0.8844 - val_loss: 0.2697 - val_accuracy: 0.9137\n",
      "Epoch 39/50\n",
      "25/25 [==============================] - ETA: 0s - loss: 0.2970 - accuracy: 0.88 - 0s 8ms/step - loss: 0.2941 - accuracy: 0.8893 - val_loss: 0.2695 - val_accuracy: 0.9137\n",
      "Epoch 40/50\n",
      "25/25 [==============================] - 0s 8ms/step - loss: 0.2827 - accuracy: 0.9079 - val_loss: 0.2679 - val_accuracy: 0.9137\n",
      "Epoch 41/50\n",
      "25/25 [==============================] - 0s 8ms/step - loss: 0.2740 - accuracy: 0.9132 - val_loss: 0.2666 - val_accuracy: 0.9137\n",
      "Epoch 42/50\n",
      "25/25 [==============================] - 0s 8ms/step - loss: 0.2701 - accuracy: 0.9037 - val_loss: 0.2672 - val_accuracy: 0.9137\n",
      "Epoch 43/50\n",
      "25/25 [==============================] - 0s 8ms/step - loss: 0.2674 - accuracy: 0.8864 - val_loss: 0.2660 - val_accuracy: 0.9137\n",
      "Epoch 44/50\n",
      "25/25 [==============================] - 0s 8ms/step - loss: 0.3015 - accuracy: 0.8897 - val_loss: 0.2649 - val_accuracy: 0.9137\n",
      "Epoch 45/50\n",
      "25/25 [==============================] - 0s 8ms/step - loss: 0.2892 - accuracy: 0.9095 - val_loss: 0.2644 - val_accuracy: 0.9137\n",
      "Epoch 46/50\n",
      "25/25 [==============================] - 0s 9ms/step - loss: 0.2902 - accuracy: 0.9027 - val_loss: 0.2619 - val_accuracy: 0.9137\n",
      "Epoch 47/50\n",
      "25/25 [==============================] - 0s 7ms/step - loss: 0.2802 - accuracy: 0.9031 - val_loss: 0.2594 - val_accuracy: 0.9188\n",
      "Epoch 48/50\n",
      "25/25 [==============================] - 0s 8ms/step - loss: 0.2401 - accuracy: 0.9101 - val_loss: 0.2595 - val_accuracy: 0.9188\n",
      "Epoch 49/50\n",
      "25/25 [==============================] - 0s 9ms/step - loss: 0.3203 - accuracy: 0.8915 - val_loss: 0.2593 - val_accuracy: 0.9188\n",
      "Epoch 50/50\n",
      "25/25 [==============================] - 0s 7ms/step - loss: 0.2224 - accuracy: 0.9148 - val_loss: 0.2586 - val_accuracy: 0.9188\n"
     ]
    },
    {
     "data": {
      "image/png": "[encoded data removed]",
      "text/plain": [
       "<Figure size 432x288 with 1 Axes>"
      ]
     },
     "metadata": {
      "needs_background": "light"
     },
     "output_type": "display_data"
    },
    {
     "data": {
      "image/png": "[encoded data removed]",
      "text/plain": [
       "<Figure size 432x288 with 1 Axes>"
      ]
     },
     "metadata": {
      "needs_background": "light"
     },
     "output_type": "display_data"
    }
   ],
   "source": [
    "epochs = 50\n",
    "model = keras.Sequential()\n",
    "model.add(layers.Conv1D(32, 2, activation='relu', input_shape = x_train[0].shape))\n",
    "model.add(layers.BatchNormalization())\n",
    "model.add(layers.MaxPool1D(2))\n",
    "model.add(layers.Dropout(0.2))\n",
    "\n",
    "model.add(layers.Conv1D(32, 2, activation='relu'))\n",
    "model.add(layers.BatchNormalization())\n",
    "model.add(layers.MaxPool1D(2))\n",
    "model.add(layers.Dropout(0.5))\n",
    "          \n",
    "model.add(layers.Flatten())\n",
    "model.add(layers.Dense(64, activation='relu'))\n",
    "model.add(layers.Dropout(0.5))\n",
    "\n",
    "model.add(Dense(1, activation='sigmoid'))\n",
    "          \n",
    "model.compile(optimizer=Adam(lr=0.0001), loss = 'binary_crossentropy', metrics=['accuracy'])\n",
    "history = model.fit(x_train, y_train, epochs=epochs, validation_data=(x_test, y_test), verbose=1)\n",
    "plot_learningCurve(history, epochs)"
   ]
  }
 ],
 "metadata": {
  "colab": {
   "collapsed_sections": [],
   "name": "CredCardFraud.ipynb",
   "provenance": []
  },
  "kernelspec": {
   "display_name": "Python 3",
   "language": "python",
   "name": "python3"
  },
  "language_info": {
   "codemirror_mode": {
    "name": "ipython",
    "version": 3
   },
   "file_extension": ".py",
   "mimetype": "text/x-python",
   "name": "python",
   "nbconvert_exporter": "python",
   "pygments_lexer": "ipython3",
   "version": "3.8.5"
  }
 },
 "nbformat": 4,
 "nbformat_minor": 1
}
